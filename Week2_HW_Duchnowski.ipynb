{
 "cells": [
  {
   "cell_type": "code",
   "execution_count": 1,
   "metadata": {},
   "outputs": [],
   "source": [
    "import numpy as np"
   ]
  },
  {
   "cell_type": "code",
   "execution_count": 291,
   "metadata": {},
   "outputs": [
    {
     "data": {
      "text/plain": [
       "array([nan, nan, nan, nan,  1., nan, nan, nan, nan, nan])"
      ]
     },
     "execution_count": 291,
     "metadata": {},
     "output_type": "execute_result"
    }
   ],
   "source": [
    "#1. Create a null array of size 10 but the fifth value which is 1\n",
    "a = np.ones(10)\n",
    "a[:4]=np.nan\n",
    "a[5:]=np.nan\n",
    "a"
   ]
  },
  {
   "cell_type": "code",
   "execution_count": 84,
   "metadata": {},
   "outputs": [
    {
     "data": {
      "text/plain": [
       "array([nan, nan, nan, nan, nan,  1., nan, nan, nan, nan])"
      ]
     },
     "execution_count": 84,
     "metadata": {},
     "output_type": "execute_result"
    }
   ],
   "source": [
    "#2. Reverse a above created array (first element becomes last)\n",
    "b = a[-1::-1]\n",
    "b\n"
   ]
  },
  {
   "cell_type": "code",
   "execution_count": 85,
   "metadata": {},
   "outputs": [
    {
     "data": {
      "text/plain": [
       "array([[[0, 1, 2],\n",
       "        [3, 4, 5],\n",
       "        [6, 7, 8]]])"
      ]
     },
     "execution_count": 85,
     "metadata": {},
     "output_type": "execute_result"
    }
   ],
   "source": [
    "#3. Create a 3x3 matrix with values ranging from 0 to 8\n",
    "grid = np.arange(9).reshape(1,3,3)\n",
    "grid"
   ]
  },
  {
   "cell_type": "code",
   "execution_count": 170,
   "metadata": {},
   "outputs": [
    {
     "data": {
      "text/plain": [
       "(array([0, 1, 4], dtype=int64),)"
      ]
     },
     "execution_count": 170,
     "metadata": {},
     "output_type": "execute_result"
    }
   ],
   "source": [
    "#4. Find indices of non-zero elements from [1,2,0,0,4,0]\n",
    "test = np.array([1,2,0,0,4,0], np.int64)\n",
    "zeroSpots = np.where(test != 0)\n",
    "zeroSpots"
   ]
  },
  {
   "cell_type": "code",
   "execution_count": 176,
   "metadata": {},
   "outputs": [
    {
     "data": {
      "text/plain": [
       "array([[[72, 71, 50],\n",
       "        [59, 13, 70],\n",
       "        [ 2, 84, 80]],\n",
       "\n",
       "       [[12, 66, 44],\n",
       "        [15, 28, 34],\n",
       "        [77, 61, 49]],\n",
       "\n",
       "       [[31, 42, 77],\n",
       "        [17, 34, 29],\n",
       "        [71, 81, 24]]])"
      ]
     },
     "execution_count": 176,
     "metadata": {},
     "output_type": "execute_result"
    }
   ],
   "source": [
    "#5. Create a 3x3x3 array with random values\n",
    "x = np.random.randint(1,100,(3,3,3))\n",
    "x"
   ]
  },
  {
   "cell_type": "code",
   "execution_count": 177,
   "metadata": {},
   "outputs": [
    {
     "name": "stdout",
     "output_type": "stream",
     "text": [
      "[[95 32 57 75 11 87 87 31 99  6]\n",
      " [26 10 60 27 60 58 73 39 57 42]\n",
      " [88  4 47 96 37 58 20  5 95 37]\n",
      " [58 14 60 78 12 91 41 20 45 65]\n",
      " [92 50 20 60 41 33 38 56 73  1]\n",
      " [46 92 75 98  6 15 99 87 89  1]\n",
      " [71 36 78 30 54 56 64 16 96 75]\n",
      " [15 60 71 82 69 62 86 97 37 39]\n",
      " [86 81 50 93 98 72 81 96  7 50]\n",
      " [90 50 95 46  2 90 18 52 82 47]]\n",
      "Smallest element is 1\n",
      "Largest element is 99\n"
     ]
    }
   ],
   "source": [
    "#6. Create a 10x10 array with random values and find the minimum and maximum values\n",
    "x = np.random.randint(1,100,(10,10))\n",
    "print(x)\n",
    "print(\"Smallest element is {}\".format(x.min()))\n",
    "print(\"Largest element is {}\".format(x.max()))"
   ]
  },
  {
   "cell_type": "code",
   "execution_count": 178,
   "metadata": {},
   "outputs": [
    {
     "data": {
      "text/plain": [
       "4.733333333333333"
      ]
     },
     "execution_count": 178,
     "metadata": {},
     "output_type": "execute_result"
    }
   ],
   "source": [
    "#7. Create a random vector of size 30 and find the mean value\n",
    "x = np.random.randint(1,10,(1,30))\n",
    "x.mean()"
   ]
  },
  {
   "cell_type": "code",
   "execution_count": 156,
   "metadata": {},
   "outputs": [
    {
     "data": {
      "text/plain": [
       "array([[1, 1, 1, 1, 1],\n",
       "       [1, 0, 0, 0, 1],\n",
       "       [1, 0, 0, 0, 1],\n",
       "       [1, 0, 0, 0, 1],\n",
       "       [1, 1, 1, 1, 1]], dtype=int64)"
      ]
     },
     "execution_count": 156,
     "metadata": {},
     "output_type": "execute_result"
    }
   ],
   "source": [
    "#8. Create a 2d array with 1 on the border and 0 inside\n",
    "a = np.ones((5,5), dtype=np.int64)\n",
    "a[1:-1,1:-1] = 0\n",
    "a"
   ]
  },
  {
   "cell_type": "code",
   "execution_count": 142,
   "metadata": {},
   "outputs": [
    {
     "data": {
      "text/plain": [
       "array([[14536,  5043],\n",
       "       [14635,  5529],\n",
       "       [ 8320,  2954],\n",
       "       [17915,  5881],\n",
       "       [16928,  5068]], dtype=int64)"
      ]
     },
     "execution_count": 142,
     "metadata": {},
     "output_type": "execute_result"
    }
   ],
   "source": [
    "#9. Multiply a 5x3 matrix by a 3x2 matrix (real matrix product)\n",
    "\n",
    "A = np.random.randint(1,100,(5,3)).astype(np.int64)\n",
    "B = np.random.randint(1,100,(3,2)).astype(np.int64)\n",
    "\n",
    "np.matmul(A,B)\n"
   ]
  },
  {
   "cell_type": "code",
   "execution_count": 143,
   "metadata": {},
   "outputs": [
    {
     "name": "stdout",
     "output_type": "stream",
     "text": [
      "[[3.4046992  9.31978835 8.28924483 1.52792101 0.88451781 9.09321514\n",
      "  8.26197573 6.75677791 1.18292874 8.02450976]]\n",
      "[[3 9 8 1 0 9 8 6 1 8]]\n"
     ]
    }
   ],
   "source": [
    "#10. Extract the integer part of a random array\n",
    "\n",
    "x = 10*np.random.random_sample((1, 10))\n",
    "print(x)\n",
    "\n",
    "y = x[::].astype(np.int64)\n",
    "print(y)\n"
   ]
  },
  {
   "cell_type": "code",
   "execution_count": 132,
   "metadata": {},
   "outputs": [
    {
     "data": {
      "text/plain": [
       "array([[0.6932049 , 0.5840123 , 2.10053345, 3.07002219, 3.79828724],\n",
       "       [1.55719022, 0.99619558, 1.04407565, 1.42531075, 3.33020452],\n",
       "       [0.05333308, 0.69291821, 3.41523662, 3.44140873, 2.92293524],\n",
       "       [3.37134853, 3.5327757 , 0.70034414, 2.46284715, 2.82720311],\n",
       "       [1.38472499, 3.6562084 , 1.8580339 , 2.2329077 , 2.55928361]])"
      ]
     },
     "execution_count": 132,
     "metadata": {},
     "output_type": "execute_result"
    }
   ],
   "source": [
    "#11. Create a 5x5 matrix with row values ranging from 0 to 4\n",
    "\n",
    "4 * np.random.random_sample((5, 5))"
   ]
  },
  {
   "cell_type": "code",
   "execution_count": 146,
   "metadata": {},
   "outputs": [
    {
     "name": "stdout",
     "output_type": "stream",
     "text": [
      "[[0.92809939 0.6097125  0.69382766 0.55421622 0.87151592 0.25994439\n",
      "  0.78302314 0.79242124 0.12628347 0.80733769]]\n",
      "[[0.12628347 0.25994439 0.55421622 0.6097125  0.69382766 0.78302314\n",
      "  0.79242124 0.80733769 0.87151592 0.92809939]]\n"
     ]
    }
   ],
   "source": [
    "#12.  Create a random vector of size 10 and sort it\n",
    "\n",
    "A = np.random.random_sample((1, 10))\n",
    "print(A)\n",
    "\n",
    "B=np.sort(A)\n",
    "print(B)\n"
   ]
  },
  {
   "cell_type": "code",
   "execution_count": 4,
   "metadata": {},
   "outputs": [
    {
     "name": "stdout",
     "output_type": "stream",
     "text": [
      "These arrays are equal : True\n"
     ]
    },
    {
     "data": {
      "text/plain": [
       "True"
      ]
     },
     "execution_count": 4,
     "metadata": {},
     "output_type": "execute_result"
    }
   ],
   "source": [
    "#13. Consider two random array A anb B, check if they are equal.\n",
    "\n",
    "A = np.array([1,2,3,4,5,6], np.int64)\n",
    "B = np.array([1,2,3,4,5,6], np.int64)\n",
    "\n",
    "if A.size != B.size:\n",
    "    print(\"Cannot compare. Dimensions are different\")\n",
    "else:\n",
    "    AreEqual = True\n",
    "    for i in range(0,A.size):\n",
    "        if A[i] != B[i]:\n",
    "            AreEqual = False\n",
    "            exit\n",
    "    print(\"These arrays are equal : {}\".format(AreEqual))  \n",
    "\n",
    "np.array_equal(A,B)\n"
   ]
  },
  {
   "cell_type": "code",
   "execution_count": 300,
   "metadata": {},
   "outputs": [
    {
     "name": "stdout",
     "output_type": "stream",
     "text": [
      "A has an empty column?: True\n",
      "B has an empty column?: False\n"
     ]
    }
   ],
   "source": [
    "#14. How to tell if a given 2D array has null columns?\n",
    "\n",
    "A = np.array((\n",
    "    [2, 3, 5, 4, np.nan, 1], \n",
    "    [4, 3, 1, 2, np.nan, 5], \n",
    "    [5, 3, 1, 2, np.nan, 4], \n",
    "    [1, 4, 3, 5, np.nan, 2]), float)\n",
    "\n",
    "B = np.array((\n",
    "    [2, 3, 5, 4, 0, 1], \n",
    "    [4, 3, 1, 2, 0, 5], \n",
    "    [5, 3, 1, 2, 0, 4], \n",
    "    [1, 4, 3, 5, 0, 2]), float)\n",
    "\n",
    "# Function to determine if 2D arra has null columns\n",
    "def HasEmptyColumn(x):\n",
    "    HasNanCol = False\n",
    "\n",
    "    for i in np.sum(x, axis=0):\n",
    "        if np.isnan(i):\n",
    "            HasNanCol = True\n",
    "    return HasNanCol   \n",
    "\n",
    "print(\"A has an empty column?: {}\".format(HasEmptyColumn(A)))\n",
    "print(\"B has an empty column?: {}\".format(HasEmptyColumn(B)))\n",
    "\n"
   ]
  },
  {
   "cell_type": "code",
   "execution_count": 306,
   "metadata": {},
   "outputs": [
    {
     "data": {
      "text/plain": [
       "array([[536, 360, 408],\n",
       "       [405, 400, 401],\n",
       "       [484, 315, 365]])"
      ]
     },
     "execution_count": 306,
     "metadata": {},
     "output_type": "execute_result"
    }
   ],
   "source": [
    "#15. Considering a four dimensions array, how to get sum over the last two axis at once?\n",
    "\n",
    "A = np.random.randint(1,100,(3,3,3,3))\n",
    "sumOverLastTwo = np.sum(A, axis=(2,3))\n",
    "sumOverLastTwo"
   ]
  },
  {
   "cell_type": "code",
   "execution_count": 307,
   "metadata": {},
   "outputs": [
    {
     "data": {
      "text/plain": [
       "array([[[ 8047,  6577, 10071],\n",
       "        [ 8999,  9899, 11205],\n",
       "        [ 8483,  9435,  9589],\n",
       "        [ 9751, 11425, 12809],\n",
       "        [15234, 14531, 17236]],\n",
       "\n",
       "       [[15635, 19265, 14012],\n",
       "        [ 6326, 14032,  7380],\n",
       "        [13068, 19046, 10212],\n",
       "        [11330, 20989, 12083],\n",
       "        [19538, 27637, 16002]],\n",
       "\n",
       "       [[18020, 15848, 13418],\n",
       "        [ 8814,  8491, 12231],\n",
       "        [15258, 15701, 12005],\n",
       "        [15136, 13684, 15406],\n",
       "        [22379, 22714, 20265]],\n",
       "\n",
       "       [[ 9953, 12076, 18951],\n",
       "        [ 5872, 14293, 10704],\n",
       "        [ 7782, 12051, 16042],\n",
       "        [ 6520, 15391, 14557],\n",
       "        [14859, 22087, 26901]],\n",
       "\n",
       "       [[ 7417, 15935, 11164],\n",
       "        [ 1776, 12206,  3929],\n",
       "        [ 7110, 13468, 10111],\n",
       "        [ 6444, 14616,  9315],\n",
       "        [ 7364, 24110, 12612]]])"
      ]
     },
     "execution_count": 307,
     "metadata": {},
     "output_type": "execute_result"
    }
   ],
   "source": [
    "#16. Consider an array of dimension (5,5,3), how to mulitply it by an array with dimensions (5,5)?\n",
    "A = np.random.randint(1,100,(5,5,3))\n",
    "B = np.random.randint(1,100,(5,5))\n",
    "\n",
    "#NOTE: order matters, operation is not commutative\n",
    "np.matmul(B,A)"
   ]
  },
  {
   "cell_type": "code",
   "execution_count": 5,
   "metadata": {},
   "outputs": [
    {
     "name": "stdout",
     "output_type": "stream",
     "text": [
      "[[13 67 60 36 32]\n",
      " [ 6 33  2 55 37]\n",
      " [ 1 36 52 83 80]\n",
      " [44 59 33 36 45]\n",
      " [83 75 31 72 53]]\n",
      "[[13 67 60]\n",
      " [ 6 33  2]\n",
      " [ 1 36 52]]\n",
      "[[67 60 36]\n",
      " [33  2 55]\n",
      " [36 52 83]]\n",
      "[[60 36 32]\n",
      " [ 2 55 37]\n",
      " [52 83 80]]\n",
      "[[ 6 33  2]\n",
      " [ 1 36 52]\n",
      " [44 59 33]]\n",
      "[[33  2 55]\n",
      " [36 52 83]\n",
      " [59 33 36]]\n",
      "[[ 2 55 37]\n",
      " [52 83 80]\n",
      " [33 36 45]]\n",
      "[[ 1 36 52]\n",
      " [44 59 33]\n",
      " [83 75 31]]\n",
      "[[36 52 83]\n",
      " [59 33 36]\n",
      " [75 31 72]]\n",
      "[[52 83 80]\n",
      " [33 36 45]\n",
      " [31 72 53]]\n"
     ]
    }
   ],
   "source": [
    "#17. Extract all the contiguous 3x3 blocks from a random 10x10 matrix\n",
    "\n",
    "x = np.random.randint(1,100,(5,5))\n",
    "print(x)\n",
    "\n",
    "for i in range(0, 5-3+1, 1):\n",
    "        for j in range(0, 5-3+1, 1):\n",
    "            result = x[i:i+3,j:j+3]\n",
    "            print(result)"
   ]
  },
  {
   "cell_type": "code",
   "execution_count": 190,
   "metadata": {},
   "outputs": [
    {
     "data": {
      "text/plain": [
       "array([ 0,  4,  8, 12])"
      ]
     },
     "execution_count": 190,
     "metadata": {},
     "output_type": "execute_result"
    }
   ],
   "source": [
    "np.arange(0, 16, 4) "
   ]
  },
  {
   "cell_type": "code",
   "execution_count": 309,
   "metadata": {},
   "outputs": [
    {
     "name": "stdout",
     "output_type": "stream",
     "text": [
      "[[16. 16. 16. 16.]\n",
      " [16. 16. 16. 16.]\n",
      " [16. 16. 16. 16.]\n",
      " [16. 16. 16. 16.]]\n"
     ]
    }
   ],
   "source": [
    "#18. Consider a 16x16 array, how to get the block-sum (block size is 4x4)?\n",
    "\n",
    "x = np.ones((16,16))\n",
    "\n",
    "blocksize = 4\n",
    "\n",
    "# result = np.add.reduceat(\n",
    "#           np.add.reduceat(x, \n",
    "#               np.arange(0, x.shape[0], blocksize), axis=0),  ==> np.arange(0, 16, 4) = 0, 4, 8, 12 \n",
    "#               np.arange(0, x.shape[1], blocksize), axis=1)   ==> np.arange(0, 16, 4) = 0, 4, 8, 12 \n",
    "#\n",
    "result = np.add.reduceat(np.add.reduceat(x, np.arange(0, x.shape[0], blocksize), axis=0), np.arange(0, x.shape[1], blocksize), axis=1)\n",
    "print(result)"
   ]
  },
  {
   "cell_type": "code",
   "execution_count": 214,
   "metadata": {},
   "outputs": [
    {
     "data": {
      "text/plain": [
       "Ttest_indResult(statistic=-3.4056546727422394, pvalue=0.0007991560628827487)"
      ]
     },
     "execution_count": 214,
     "metadata": {},
     "output_type": "execute_result"
    }
   ],
   "source": [
    "#19. Generate 2 random gaussian distributions and run a t-test to see differences\n",
    "import scipy.stats as stats\n",
    "\n",
    "\n",
    "a = np.random.normal(0, 1, size=100)\n",
    "b = np.random.normal(.50, 1, size=100)\n",
    "\n",
    "stats.ttest_ind(a, b)   \n"
   ]
  }
 ],
 "metadata": {
  "hide_input": false,
  "interpreter": {
   "hash": "696088a9f9f65308fe7f9c6b902288d4ca3b6c8a547edb02bb2af011aa3acced"
  },
  "kernelspec": {
   "display_name": "Python 3 (ipykernel)",
   "language": "python",
   "name": "python3"
  },
  "language_info": {
   "codemirror_mode": {
    "name": "ipython",
    "version": 3
   },
   "file_extension": ".py",
   "mimetype": "text/x-python",
   "name": "python",
   "nbconvert_exporter": "python",
   "pygments_lexer": "ipython3",
   "version": "3.8.11"
  }
 },
 "nbformat": 4,
 "nbformat_minor": 4
}

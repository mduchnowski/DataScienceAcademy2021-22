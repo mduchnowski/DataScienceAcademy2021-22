{
 "cells": [
  {
   "cell_type": "code",
   "execution_count": null,
   "id": "22ae8548-2146-4333-9143-195271269e87",
   "metadata": {},
   "outputs": [],
   "source": [
    "# M.Duchnowski\n",
    "# Upskill FY2022 : Data Science Academy\n",
    "# Week 3 Homework\n",
    "# 11/12/2021"
   ]
  },
  {
   "cell_type": "code",
   "execution_count": null,
   "id": "c58cb1c8-0060-4a3e-b3f0-10085b08ae0f",
   "metadata": {},
   "outputs": [],
   "source": [
    "import pandas as pd\n",
    "import json"
   ]
  },
  {
   "cell_type": "code",
   "execution_count": null,
   "id": "c2038d81-5a82-4461-a654-fffceae72832",
   "metadata": {},
   "outputs": [],
   "source": [
    "##################################\n",
    "#Create dataframe dfLog from json\n",
    "##################################\n",
    "\n",
    "#Read all data from json file\n",
    "with open('week3_homework.json') as f:\n",
    "    txt = json.load(f)\n",
    "\n",
    "# Retrieve embedded dataframes and cross-merging  \n",
    "dfgameLog = pd.DataFrame(txt['gameLog'])\n",
    "dfEvents  = pd.DataFrame(txt['gameLog'][0].get('eventSequence'))\n",
    "dfLog = dfgameLog.merge(dfEvents, how=\"cross\")\n",
    "\n",
    "#Enhance dfLog by adding PlayerID  \n",
    "dfPlayerID = pd.DataFrame(txt['gameLog'][0]['playerID'])\n",
    "dfLog[\"userID\"]   = dfPlayerID['userID'][1]  + ', ' + dfPlayerID['userID'][0]\n",
    "dfLog[\"nickname\"] = dfPlayerID['nickname'][1]  + ', ' + dfPlayerID['nickname'][0]\n",
    "\n",
    "#Drop columns that have now been expanded, keeping Extended Data as an embedded table\n",
    "dfLog = dfLog.drop(columns=['playerID', 'eventSequence'])\n",
    "dfLog\n"
   ]
  },
  {
   "cell_type": "code",
   "execution_count": null,
   "id": "0df5636c-e9a6-4360-b06f-a1b7003350cc",
   "metadata": {},
   "outputs": [],
   "source": [
    "##################################\n",
    "#Create dataframe dfLog from xml\n",
    "##################################\n",
    "\n",
    "# Retrieve embedded dataframes and cross-merging  \n",
    "dfgameLog  = pd.read_xml('week3_homework.xml', xpath=\"//gameLog/*\")\n",
    "dfEvents   = pd.read_xml('week3_homework.xml', xpath=\".//eventSequence/*\")\n",
    "dfLog = dfgameLog.merge(dfEvents, how=\"cross\")\n",
    "\n",
    "#Enhance dfLog by adding PlayerID  \n",
    "dfPlayerID  = pd.read_xml('week3_homework.xml', xpath=\".//playerID/*\")\n",
    "dfLog[\"userID\"]   = dfPlayerID['value'][2]  + ', ' + dfPlayerID['value'][0]\n",
    "dfLog[\"nickname\"] = dfPlayerID['value'][3]  + ', ' + dfPlayerID['value'][1]\n",
    "\n",
    "#Drop columns that have now been expanded, keeping Extended Data as an embedded table\n",
    "dfLog = dfLog.drop(columns=['playerID', 'eventSequence'])\n",
    "dfLog"
   ]
  }
 ],
 "metadata": {
  "kernelspec": {
   "display_name": "Python 3 (ipykernel)",
   "language": "python",
   "name": "python3"
  },
  "language_info": {
   "codemirror_mode": {
    "name": "ipython",
    "version": 3
   },
   "file_extension": ".py",
   "mimetype": "text/x-python",
   "name": "python",
   "nbconvert_exporter": "python",
   "pygments_lexer": "ipython3",
   "version": "3.8.11"
  }
 },
 "nbformat": 4,
 "nbformat_minor": 5
}
